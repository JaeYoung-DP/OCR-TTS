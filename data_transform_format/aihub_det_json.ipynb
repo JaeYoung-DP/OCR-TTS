{
 "cells": [
  {
   "cell_type": "code",
   "execution_count": 1,
   "id": "26809392-91fe-402c-af1a-128e0030c9b4",
   "metadata": {},
   "outputs": [],
   "source": [
    "import json\n",
    "import os\n",
    "from shapely.geometry import Polygon\n",
    "\n",
    "# 환경에 맞춰서 folder_path 수정\n",
    "folder_path = 'data/kor_data/Training/label/my/' # 전처리할 데이터 폴더 위치\n",
    "img_path = 'data/kor_data/Training/img/my/' # 원본 이미지 폴더 위치\n",
    "output_file_path = 'data/kor_data/Training/pre_data.json' # 출력 경로\n",
    "\n",
    "file_list = os.listdir(folder_path) # 폴더에 있는 파일 이름을 리스트로 불러옴\n",
    "# print(file_list) #출력 : 00110011002.json\n",
    "\n",
    "# img_list = os.listdir(img_path)\n",
    "img_list = [os.path.splitext(file)[0] + '.jpg' for file in file_list if file.endswith(\".json\")]\n",
    "# print(img_list)\n",
    "\n",
    "img_path_li = []\n",
    "for i in img_list:\n",
    "    img_path_li.append(f'{img_path}{i}')\n",
    "\n",
    "file_path_li = [] # 파일 경로와 리스트 한 번에 넣을 리스트 생성\n",
    "#경로+파일명을 리스트에 저장\n",
    "for i in file_list:\n",
    "    file_path_li.append(f'{folder_path}{i}')\n",
    "# print(file_path_li) # 출력 : ../mmocr/data/kor_data/label/001/00110011002.json ...\n",
    "\n"
   ]
  },
  {
   "cell_type": "code",
   "execution_count": 2,
   "id": "ce1990b7-ed59-4f1c-87ed-b4908e6b282a",
   "metadata": {},
   "outputs": [],
   "source": [
    "my_dict = {}\n",
    "num_instance = 0\n",
    "\n",
    "for item in file_path_li:\n",
    "    with open(item, 'r', encoding='utf-8') as fp:\n",
    "        data = json.load(fp) # 파일을 파이썬의 딕셔너리 형태로 변환\n",
    "    \n",
    "    if 'data_list' not in my_dict:\n",
    "        my_dict['metainfo'] = {\"dataset_type\": \"TextDetDataset\",\n",
    "                            \"task_name\": \"textdet\",\n",
    "                            \"category\":[{\"id\": 0, \"name\": \"text\"}]}\n",
    "        \n",
    "    if 'data_list' not in my_dict:\n",
    "        my_dict['data_list'] = []\n",
    "        # print(data['data_list'])\n",
    "        \n",
    "    my_dict['data_list'].append({'instances':[],\n",
    "                            'img_path': f'{img_path_li[num_instance]}',\n",
    "                            'height': data['image']['height'],\n",
    "                            'width': data['image']['width']}\n",
    "                            )\n",
    "\n",
    "    # print(len(data['text']['word']))\n",
    "    \n",
    "    for i in range(len(data['text']['word'])):\n",
    "        my_dict['data_list'][num_instance]['instances'].append({'polygon': [],\n",
    "                                                                'bbox': [],\n",
    "                                                                'bbox_label': 0,\n",
    "                                                                'ignore': 'false'})\n",
    "\n",
    "        # 폴리건 형태로 변형해줄 거 만들기\n",
    "        xmin, ymin, xmax, ymax = data['text']['word'][i]['wordbox']\n",
    "        polygon_coords = [xmin, ymin, xmax, ymin, xmax, ymax, xmin, ymax]\n",
    "        # shapely_polygon = Polygon(polygon_coords)\n",
    "        \n",
    "        my_dict['data_list'][num_instance]['instances'][i]['polygon'] = polygon_coords\n",
    "        my_dict['data_list'][num_instance]['instances'][i]['bbox'] = data['text']['word'][i]['wordbox']\n",
    "\n",
    "    num_instance += 1\n",
    "\n",
    "with open(output_file_path, 'w') as json_file:\n",
    "    json.dump(my_dict, json_file)"
   ]
  },
  {
   "cell_type": "code",
   "execution_count": null,
   "id": "c02dc4e6-a4d8-472f-9bb7-082beda9f21a",
   "metadata": {},
   "outputs": [],
   "source": [
    "# print(data['text']['word'][1]['wordbox'])\n",
    "# print(data['text']['word'][1]['wordbox'][0])\n",
    "# print(data['text']['word'][1]['wordbox'][1])\n",
    "# print(data['text']['word'][1]['wordbox'][2])\n",
    "# print(data['text']['word'][1]['wordbox'][3])\n",
    "# xmin, ymin, xmax, ymax = data['text']['word'][1]['wordbox']\n",
    "# print(xmin, ymin, xmax, ymax)"
   ]
  }
 ],
 "metadata": {
  "kernelspec": {
   "display_name": "Python 3 (ipykernel)",
   "language": "python",
   "name": "python3"
  },
  "language_info": {
   "codemirror_mode": {
    "name": "ipython",
    "version": 3
   },
   "file_extension": ".py",
   "mimetype": "text/x-python",
   "name": "python",
   "nbconvert_exporter": "python",
   "pygments_lexer": "ipython3",
   "version": "3.8.18"
  }
 },
 "nbformat": 4,
 "nbformat_minor": 5
}
